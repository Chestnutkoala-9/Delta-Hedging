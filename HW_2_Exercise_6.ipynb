{
  "nbformat": 4,
  "nbformat_minor": 0,
  "metadata": {
    "colab": {
      "provenance": []
    },
    "kernelspec": {
      "name": "python3",
      "display_name": "Python 3"
    },
    "language_info": {
      "name": "python"
    }
  },
  "cells": [
    {
      "cell_type": "code",
      "source": [
        "import numpy as np\n",
        "from scipy.stats import norm\n",
        "import pandas as pd"
      ],
      "metadata": {
        "id": "lkBYIK6Y0JIW"
      },
      "execution_count": null,
      "outputs": []
    },
    {
      "cell_type": "code",
      "execution_count": null,
      "metadata": {
        "id": "ec2c3o8yvZrM"
      },
      "outputs": [],
      "source": [
        "S0 = 49\n",
        "K = 50\n",
        "r = 0.05\n",
        "sigma = 0.20\n",
        "T_m = 20/52\n",
        "Nshares = 100000"
      ]
    },
    {
      "cell_type": "code",
      "source": [
        "def delta_value(S,K,r,T,t,sigma):\n",
        "  d1 = (np.log(S/K) + (r + 0.5*sigma**2)*(T-t)) / (sigma*np.sqrt(T-t))\n",
        "  return norm.cdf(d1)"
      ],
      "metadata": {
        "id": "B9cW8T9rzlts"
      },
      "execution_count": null,
      "outputs": []
    },
    {
      "cell_type": "code",
      "source": [
        "def simulate_gbm(s_0, mu, sigma, T_m, N):\n",
        "    \n",
        "    dt = T_m/N\n",
        "    dW = np.random.normal()\n",
        "    return s_0 * np.exp((mu - 0.5 * sigma ** 2) *dt+ sigma * np.sqrt(dt)*dW)\n",
        "  "
      ],
      "metadata": {
        "id": "XkiirA2m0hp2"
      },
      "execution_count": null,
      "outputs": []
    },
    {
      "cell_type": "code",
      "source": [
        "T_steps = 20\n",
        "N = 20\n",
        "mu = 0.13\n",
        "d1 = delta_value(S0,K,r,T_m,0,sigma)\n",
        "d_l = [d1]\n",
        "share_l = [d1*100000]\n",
        "cost_l = [d1*100000*S0]\n",
        "price_l = [S0]\n",
        "for i in range(T_steps):\n",
        "  S_t = simulate_gbm(S0, mu, sigma, T_m, N)\n",
        "  price_l.append(S_t)\n",
        "  t = 1/52*(i+1)\n",
        "  d = delta_value(S_t,K,r,T_m,t,sigma)\n",
        "  share_l.append(d*Nshares)\n",
        "  cost_l.append(cost_l[-1]+(share_l[-1]-share_l[-2])*S_t + d*Nshares*S_t*r*1/52)\n",
        "\n",
        "\n",
        "res = pd.DataFrame(list(zip(price_l, share_l,cost_l)),\n",
        "              columns=['prices','shares','cost'])\n",
        "print(res)"
      ],
      "metadata": {
        "id": "F4DsvVFk4-Ws",
        "colab": {
          "base_uri": "https://localhost:8080/"
        },
        "outputId": "32cb520a-2703-48a9-ba88-5c30ecbe2700"
      },
      "execution_count": null,
      "outputs": [
        {
          "output_type": "stream",
          "name": "stdout",
          "text": [
            "       prices        shares          cost\n",
            "0   49.000000  52160.466107  2.555863e+06\n",
            "1   51.332370  66607.416453  3.300747e+06\n",
            "2   49.884178  57386.117164  2.843502e+06\n",
            "3   49.643338  55468.941448  2.750975e+06\n",
            "4   49.021667  50639.285115  2.516604e+06\n",
            "5   46.985992  34796.379870  1.773782e+06\n",
            "6   49.886379  56343.483212  2.851391e+06\n",
            "7   50.582099  61437.774114  3.112059e+06\n",
            "8   49.817610  55175.537866  2.802733e+06\n",
            "9   48.332140  41767.674195  2.156643e+06\n",
            "10  48.131251  38942.311387  2.022457e+06\n",
            "11  49.342512  49462.242639  2.543884e+06\n",
            "12  48.411951  39197.991571  2.048796e+06\n",
            "13  51.116203  66614.553143  3.453500e+06\n",
            "14  50.659761  62242.169159  3.235028e+06\n",
            "15  49.944202  53606.542158  2.806303e+06\n",
            "16  48.961398  38922.298303  2.089175e+06\n",
            "17  47.079851  12127.530080  8.282299e+05\n",
            "18  47.720418  13113.246097  8.758703e+05\n",
            "19  48.578439  16074.012924  1.020451e+06\n",
            "20  49.196471      0.000000  2.296659e+05\n"
          ]
        },
        {
          "output_type": "stream",
          "name": "stderr",
          "text": [
            "<ipython-input-13-4bb78c2a1f3b>:2: RuntimeWarning: divide by zero encountered in double_scalars\n",
            "  d1 = (np.log(S/K) + (r + 0.5*sigma**2)*(T-t)) / (sigma*np.sqrt(T-t))\n"
          ]
        }
      ]
    },
    {
      "cell_type": "markdown",
      "source": [
        "(i) When S_T < 50, the bank's position is close to 0 since delta of out-of-the-money call options approaches 0 as expiration nears. When S_T > 50, the bank's position is close to 100,000 since delta of in-the-money call options approaches 1."
      ],
      "metadata": {
        "id": "bmWZAkcTNqSQ"
      }
    },
    {
      "cell_type": "markdown",
      "source": [
        "(ii) The result is close to 240,000. Try a higher frequency:"
      ],
      "metadata": {
        "id": "wK5aExE223-O"
      }
    },
    {
      "cell_type": "code",
      "source": [
        "T_steps = 40\n",
        "N = 20\n",
        "mu = 0.13\n",
        "d1 = delta_value(S0,K,r,T_m,0,sigma)\n",
        "d_l = [d1]\n",
        "share_l = [d1*100000]\n",
        "cost_l = [d1*100000*S0]\n",
        "price_l = [S0]\n",
        "for i in range(T_steps):\n",
        "  S_t = simulate_gbm(S0, mu, sigma, T_m, N)\n",
        "  price_l.append(S_t)\n",
        "  t = i*T_m/T_steps\n",
        "  d = delta_value(S_t,K,r,T_m,t,sigma)\n",
        "  share_l.append(d*Nshares)\n",
        "  cost_l.append(cost_l[-1]+(share_l[-1]-share_l[-2])*S_t + d*Nshares*S_t*r*1/52)\n",
        "\n",
        "\n",
        "res = pd.DataFrame(list(zip(price_l, share_l,cost_l)),\n",
        "              columns=['prices','shares','cost'])\n",
        "print(res)"
      ],
      "metadata": {
        "colab": {
          "base_uri": "https://localhost:8080/"
        },
        "id": "bP5E54Qq3Hxs",
        "outputId": "71aee50a-e3a7-4729-bd6f-5a415976e497"
      },
      "execution_count": null,
      "outputs": [
        {
          "output_type": "stream",
          "name": "stdout",
          "text": [
            "       prices        shares          cost\n",
            "0   49.000000  52160.466107  2.555863e+06\n",
            "1   49.243749  53751.981613  2.636780e+06\n",
            "2   49.358746  54337.368129  2.668253e+06\n",
            "3   49.315324  53884.064070  2.648453e+06\n",
            "4   47.537754  41505.690192  2.061910e+06\n",
            "5   52.325770  72317.799371  3.677816e+06\n",
            "6   46.019161  30431.574475  1.751594e+06\n",
            "7   50.033995  58162.938866  3.141903e+06\n",
            "8   47.086297  36851.697193  2.140104e+06\n",
            "9   49.389227  53321.670829  2.956076e+06\n",
            "10  49.841117  56432.335097  3.113819e+06\n",
            "11  48.817167  48608.045510  2.734141e+06\n",
            "12  48.882203  48832.788607  2.747422e+06\n",
            "13  48.659996  46805.118843  2.650946e+06\n",
            "14  47.847474  39994.586764  2.326919e+06\n",
            "15  48.773620  47077.010329  2.674562e+06\n",
            "16  49.090339  49375.999129  2.789751e+06\n",
            "17  49.089101  49073.231335  2.777205e+06\n",
            "18  48.658232  45041.126381  2.583117e+06\n",
            "19  49.362848  50859.853175  2.872760e+06\n",
            "20  46.929941  29191.159892  1.857167e+06\n",
            "21  49.436003  50963.079813  2.935906e+06\n",
            "22  50.419875  59770.930268  3.382894e+06\n",
            "23  48.573136  41981.938411  2.520788e+06\n",
            "24  51.536904  69704.379005  3.952971e+06\n",
            "25  47.650545  31695.007025  2.143256e+06\n",
            "26  48.697656  41506.058558  2.622975e+06\n",
            "27  46.934222  23150.776795  1.762528e+06\n",
            "28  51.369379  69352.031813  4.139284e+06\n",
            "29  51.874489  74557.552976  4.413036e+06\n",
            "30  49.673680  50525.043283  3.221666e+06\n",
            "31  47.497692  23596.795637  1.943714e+06\n",
            "32  50.791632  64429.242854  4.020808e+06\n",
            "33  47.276463  18070.807211  1.829966e+06\n",
            "34  49.041072  38881.620514  2.852384e+06\n",
            "35  48.463798  28585.470950  2.354726e+06\n",
            "36  50.266854  57852.564304  3.828687e+06\n",
            "37  50.026023  53263.950439  3.601699e+06\n",
            "38  46.747607   2738.888928  1.239896e+06\n",
            "39  48.128864   9231.151239  1.552789e+06\n",
            "40  49.403834  28186.641149  2.490602e+06\n"
          ]
        }
      ]
    }
  ]
}
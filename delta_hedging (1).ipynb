{
  "cells": [
    {
      "cell_type": "markdown",
      "metadata": {
        "id": "GD7XTwA1aa--"
      },
      "source": [
        "# Monte Carlo Simulation for FE\n",
        "## IEOR 4703"
      ]
    },
    {
      "cell_type": "markdown",
      "metadata": {
        "id": "AHskE5Juaa_C"
      },
      "source": [
        "### Implementation of a delta-hedging strategy for a call option"
      ]
    },
    {
      "cell_type": "code",
      "execution_count": null,
      "metadata": {
        "id": "ojq8d1dPaa_C"
      },
      "outputs": [],
      "source": [
        "import numpy as np\n",
        "import matplotlib.pyplot as plt\n",
        "from time import time\n",
        "from scipy.stats import norm"
      ]
    },
    {
      "cell_type": "code",
      "source": [
        "\n",
        "def BMS_d1(S, K, r, q, sigma, tau):\n",
        "    ''' Computes d1 for the Black Merton Scholes formula '''\n",
        "    d1 = 1.0*(np.log(1.0 * S/K) + (r - q + sigma**2/2) * tau) / (sigma * np.sqrt(tau))\n",
        "    return d1\n",
        "\n",
        "def BMS_d2(S, K, r, q, sigma, tau):\n",
        "    ''' Computes d2 for the Black Merton Scholes formula '''\n",
        "    d2 = 1.0*(np.log(1.0 * S/K) + (r - q - sigma**2/2) * tau) / (sigma * np.sqrt(tau))\n",
        "    return d2\n",
        "\n",
        "def BMS_price(type_option, S, K, r, q, sigma, T, t=0):\n",
        "    ''' Computes the Black Merton Scholes price for a 'call' or 'put' option '''\n",
        "    tau = T - t\n",
        "    d1 = BMS_d1(S, K, r, q, sigma, tau)\n",
        "    d2 = BMS_d2(S, K, r, q, sigma, tau)\n",
        "    if type_option == 'call':\n",
        "        price = S * np.exp(-q * tau) * norm.cdf(d1) - K * np.exp(-r * tau) * norm.cdf(d2)\n",
        "    elif type_option == 'put':\n",
        "        price = K * np.exp(-r * tau) * norm.cdf(-d2) - S * np.exp(-q * tau) * norm.cdf(-d1) \n",
        "    return price\n",
        "\n",
        "def BMS_delta(type_option, S, K, r, q, sigma, T, t=0):\n",
        "    ''' Computes the delta for a call or a put. '''\n",
        "    tau = T - t\n",
        "    d1 = BMS_d1(S, K, r, q, sigma, tau)\n",
        "    if type_option == 'call':\n",
        "        delta = np.exp(-q * tau) * norm.cdf(d1)\n",
        "    elif type_option == 'put':\n",
        "        delta = np.exp(-q * tau) * (norm.cdf(d1) - 1)\n",
        "    return delta"
      ],
      "metadata": {
        "id": "f_BEUVS6eNKo"
      },
      "execution_count": null,
      "outputs": []
    },
    {
      "cell_type": "code",
      "execution_count": null,
      "metadata": {
        "id": "ELjzjYcVaa_E"
      },
      "outputs": [],
      "source": [
        "spot = 100\n",
        "K = 110\n",
        "r = 0.15\n",
        "q = 0.15\n",
        "sig = 0.22\n",
        "\n",
        "maturity = 1\n",
        "\n",
        "m = 365\n",
        "dt = maturity/m\n",
        "\n",
        "n_sim = 100"
      ]
    },
    {
      "cell_type": "markdown",
      "metadata": {
        "id": "aFjRLdwRaa_E"
      },
      "source": [
        "Compute the true value of the call"
      ]
    },
    {
      "cell_type": "code",
      "execution_count": null,
      "metadata": {
        "colab": {
          "base_uri": "https://localhost:8080/"
        },
        "id": "6IO5EAcHaa_F",
        "outputId": "e15803f5-94e2-46bc-a4fe-c7f36acde4ab"
      },
      "outputs": [
        {
          "output_type": "stream",
          "name": "stdout",
          "text": [
            "C = 4.340225998353667\n"
          ]
        }
      ],
      "source": [
        "C = BMS_price('call', spot, K, r, q, sig, maturity)\n",
        "print('C = ' + str(C))"
      ]
    },
    {
      "cell_type": "markdown",
      "metadata": {
        "id": "vpZS2Zqbaa_F"
      },
      "source": [
        "### Q3\n",
        "\n",
        "Delta-hedging strategy -- with r>0 and q>0"
      ]
    },
    {
      "cell_type": "code",
      "execution_count": null,
      "metadata": {
        "id": "3SMXGadmaa_G"
      },
      "outputs": [],
      "source": [
        "np.random.seed(4123456)\n"
      ]
    },
    {
      "cell_type": "code",
      "execution_count": null,
      "metadata": {
        "id": "P78l-yR3aa_G"
      },
      "outputs": [],
      "source": [
        "synthetic_C = np.zeros(n_sim)\n",
        "\n",
        "st = time()\n",
        "\n",
        "for j in range(n_sim):\n",
        "    \n",
        "    # reset for each path\n",
        "    S = spot\n",
        "    T = maturity\n",
        "    delta_C_prev = 0.0\n",
        "    \n",
        "    for i in range(m):\n",
        "        \n",
        "        delta_C = BMS_delta('call', S, K, r, q, sig, T)\n",
        "        \n",
        "        synthetic_C[j] += (delta_C - delta_C_prev)*S\n",
        "        # Note - net position is always delta_c\n",
        "        if i > 0:\n",
        "          synthetic_C[j] -= delta_C_prev*S_prev*(np.exp(q*dt) - 1) /np.exp(i*r*dt)\n",
        "    \n",
        "        delta_C_prev = delta_C\n",
        "\n",
        "        S_prev = S\n",
        "        z = np.random.randn()\n",
        "        S = S * np.exp((r - q - sig*sig/2)*dt + sig*np.sqrt(dt)*z)\n",
        "        \n",
        "        T = T - dt\n",
        "    \n",
        "    synthetic_C[j] += (-delta_C*S + np.maximum(S-K,0))*np.exp(-m*r*dt)\n"
      ]
    },
    {
      "cell_type": "code",
      "execution_count": null,
      "metadata": {
        "colab": {
          "base_uri": "https://localhost:8080/"
        },
        "id": "kZ0KedqJaa_H",
        "outputId": "20e5a61b-517d-40ed-c869-b6b175a3a3fc"
      },
      "outputs": [
        {
          "output_type": "stream",
          "name": "stdout",
          "text": [
            "C = 4.340225998353667\n",
            "mean_synthetic_C = 4.980484867743424\n",
            "std_synthetic_C = 5.0412164319856485\n"
          ]
        }
      ],
      "source": [
        "print('C = ' + str(C))\n",
        "print('mean_synthetic_C = ' + str(np.mean(synthetic_C)))\n",
        "print('std_synthetic_C = ' + str(np.std(synthetic_C, ddof=1)))"
      ]
    },
    {
      "cell_type": "markdown",
      "source": [
        "### Q4\n",
        "\n",
        "put option with r>0 and q>0"
      ],
      "metadata": {
        "id": "ygQyCfvFhu5r"
      }
    },
    {
      "cell_type": "code",
      "source": [
        "synthetic_P = np.zeros(n_sim)\n",
        "\n",
        "st = time()\n",
        "\n",
        "for j in range(n_sim):\n",
        "    \n",
        "    # reset for each path\n",
        "    S = spot\n",
        "    T = maturity\n",
        "    delta_P_prev = 0.0\n",
        "    \n",
        "    for i in range(m):\n",
        "        \n",
        "        delta_P = BMS_delta('put', S, K, r, q, sig, T)\n",
        "        \n",
        "        synthetic_P[j] += (delta_P - delta_P_prev)*S\n",
        "        # Note - net position is always delta_c\n",
        "        if i > 0:\n",
        "          synthetic_P[j] -= delta_P_prev*S_prev*(np.exp(q*dt) - 1) /np.exp(i*r*dt)\n",
        "    \n",
        "        delta_P_prev = delta_P\n",
        "\n",
        "        S_prev = S\n",
        "        z = np.random.randn()\n",
        "        S = S * np.exp((r - q - sig*sig/2)*dt + sig*np.sqrt(dt)*z)\n",
        "        \n",
        "        T = T - dt\n",
        "    \n",
        "    synthetic_P[j] += (-delta_P*S + np.maximum(K-S,0))*np.exp(-m*r*dt)\n"
      ],
      "metadata": {
        "id": "FR4cqZ4XiQX0"
      },
      "execution_count": null,
      "outputs": []
    },
    {
      "cell_type": "code",
      "source": [
        "P = BMS_price('put', spot, K, r, q, sig, maturity)\n",
        "print('P = ' + str(P))\n",
        "print('mean_synthetic_P = ' + str(np.mean(synthetic_P)))\n",
        "print('std_synthetic_P = ' + str(np.std(synthetic_P, ddof=1)))"
      ],
      "metadata": {
        "colab": {
          "base_uri": "https://localhost:8080/"
        },
        "id": "wI_Rdp-8iiZO",
        "outputId": "d3d46aa0-50b6-4403-e643-223a9649d237"
      },
      "execution_count": null,
      "outputs": [
        {
          "output_type": "stream",
          "name": "stdout",
          "text": [
            "P = 12.94730576260423\n",
            "mean_synthetic_P = 12.386791872001877\n",
            "std_synthetic_P = 4.699566726631207\n"
          ]
        }
      ]
    },
    {
      "cell_type": "markdown",
      "source": [
        "### Q5\n",
        "\n",
        "BMS Model with non-constant volatility (Call)"
      ],
      "metadata": {
        "id": "uAhxC4eii4SP"
      }
    },
    {
      "cell_type": "code",
      "source": [
        "\n",
        "synthetic_C = np.zeros(n_sim)\n",
        "\n",
        "st = time()\n",
        "\n",
        "for j in range(n_sim):\n",
        "    \n",
        "    # reset for each path\n",
        "    S = spot\n",
        "    T = maturity\n",
        "    delta_C_prev = 0.0\n",
        "    sig_prev = sig\n",
        "\n",
        "    for i in range(m):\n",
        "        sig = sig_prev\n",
        "        delta_C = BMS_delta('call', S, K, r, q, sig, T)\n",
        "        \n",
        "        synthetic_C[j] += (delta_C - delta_C_prev)*S\n",
        "        # Note - net position is always delta_c\n",
        "        if i > 0:\n",
        "          synthetic_C[j] -= delta_C_prev*S_prev*(np.exp(q*dt) - 1) /np.exp(i*r*dt)\n",
        "    \n",
        "        delta_C_prev = delta_C\n",
        "\n",
        "        S_prev = S\n",
        "        z = np.random.randn()\n",
        "        S = S * np.exp((r - q - sig*sig/2)*dt + sig*np.sqrt(dt)*z)\n",
        "        sig = sig_prev - 0.001*(S - S_prev)\n",
        "        T = T - dt\n",
        "    \n",
        "    synthetic_C[j] += (-delta_C*S + np.maximum(S-K,0))*np.exp(-m*r*dt)\n"
      ],
      "metadata": {
        "id": "gBKdsQAMjBEP"
      },
      "execution_count": null,
      "outputs": []
    },
    {
      "cell_type": "code",
      "source": [
        "print('mean_synthetic_C = ' + str(np.mean(synthetic_C)))\n",
        "print('std_synthetic_C = ' + str(np.std(synthetic_C, ddof=1)))"
      ],
      "metadata": {
        "colab": {
          "base_uri": "https://localhost:8080/"
        },
        "id": "FPMtPRQdlQ0G",
        "outputId": "63e7110e-1dfa-4efc-d1e0-1ca47bcaf44a"
      },
      "execution_count": null,
      "outputs": [
        {
          "output_type": "stream",
          "name": "stdout",
          "text": [
            "mean_synthetic_C = 4.782915151952462\n",
            "std_synthetic_C = 4.94105928763795\n"
          ]
        }
      ]
    }
  ],
  "metadata": {
    "kernelspec": {
      "display_name": "Python 3",
      "language": "python",
      "name": "python3"
    },
    "language_info": {
      "codemirror_mode": {
        "name": "ipython",
        "version": 3
      },
      "file_extension": ".py",
      "mimetype": "text/x-python",
      "name": "python",
      "nbconvert_exporter": "python",
      "pygments_lexer": "ipython3",
      "version": "3.7.6"
    },
    "colab": {
      "provenance": []
    }
  },
  "nbformat": 4,
  "nbformat_minor": 0
}